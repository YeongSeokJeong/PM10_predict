{
 "cells": [
  {
   "cell_type": "markdown",
   "metadata": {},
   "source": [
    "1.비지니스의 이해\n",
    "\n",
    "본 프로젝트에서는 다음날의 통합 대기환경을 예측하는 모델을 구성해 보고자 한다. 결과 값은 regression값으로 뽑는 것을 목표로 하고 있으며, 또한 5가지의 통합적 대기 환경을 뽑아 내고자 한다. "
   ]
  },
  {
   "cell_type": "code",
   "execution_count": 1,
   "metadata": {},
   "outputs": [],
   "source": [
    "import pandas as pd\n",
    "import numpy as np\n",
    "import matplotlib.pyplot as plt\n",
    "import datetime"
   ]
  },
  {
   "cell_type": "code",
   "execution_count": 2,
   "metadata": {},
   "outputs": [
    {
     "name": "stderr",
     "output_type": "stream",
     "text": [
      "c:\\python\\venv\\tensorflow\\lib\\site-packages\\ipykernel_launcher.py:7: FutureWarning: Sorting because non-concatenation axis is not aligned. A future version\n",
      "of pandas will change to not sort by default.\n",
      "\n",
      "To accept the future behavior, pass 'sort=False'.\n",
      "\n",
      "To retain the current behavior and silence the warning, pass 'sort=True'.\n",
      "\n",
      "  import sys\n"
     ]
    }
   ],
   "source": [
    "data = pd.read_csv(\"./inputdata/20180517~.csv\",encoding = 'cp949')\n",
    "data = data.fillna(0)\n",
    "for year in range(20100101,20190101,10000):\n",
    "    year = str(year)\n",
    "    data1 = pd.read_csv('./inputdata/'+year + '~.csv',encoding = 'cp949')\n",
    "    data1 = data1.fillna(0)\n",
    "    data = pd.concat([data,data1])\n",
    "data = data.drop(\"운형(운형약어)\",axis = 1)\n",
    "data = data.drop(\"해면기압(hPa)\",axis = 1)\n",
    "data = data.drop(\"중하층운량(10분위)\",axis = 1)\n",
    "data = data.drop(\"지점\",axis = 1)\n",
    "data = data.fillna(0)"
   ]
  },
  {
   "cell_type": "markdown",
   "metadata": {},
   "source": [
    "2.데이터의 이해\n",
    "\n",
    " input으로 사용할 시간별 기상 데이터는 기존에 17차원으로 구성되어 있다. 그리고 output으로 사용할 일별 평균 통합대기환경은 6개의 값으로 구성되어 있다. \n",
    " 평균통합대기환경 데이터는 서울시의 각 구 별로 구분되어 저장이 되어 있기 때문에 서울시 기상을 체크하는 장소인 종로구의 데이터만 사용하여 예측 모델을 만들고자 한다."
   ]
  },
  {
   "cell_type": "markdown",
   "metadata": {},
   "source": [
    "기본적으로 운형은 type형 값을 가진 변수이다. 또한 미세먼지 예측에는 불필요한 정보라고 생각되어 Drop후에 데이터를 정리한다. input_data에 차원의 저주가 생길수도 있음을 감안하여 다양한 데이터를 drop하여 시행한다."
   ]
  },
  {
   "cell_type": "code",
   "execution_count": 3,
   "metadata": {},
   "outputs": [],
   "source": [
    "def split_day_time(data):\n",
    "    day_time = data.일시.to_list()\n",
    "    day = []\n",
    "    time = []\n",
    "    for ii in range(len(day_time)):\n",
    "        today = str(day_time[ii])\n",
    "        d,t = today.split(' ')\n",
    "        d = d.split(\"-\")\n",
    "        d = ''.join(d)\n",
    "        day.append(d)\n",
    "        time.append(t)\n",
    "    time = time\n",
    "    data.일시 = day\n",
    "    data[\"시간\"] = time\n",
    "    return data"
   ]
  },
  {
   "cell_type": "markdown",
   "metadata": {},
   "source": [
    "날짜 + 시간으로 구성되어 이쓴 데이터를 날짜와 데이터로 각각 나누어 주는 함수. 또한 시간 역시 각각 스칼라로 바꾼다"
   ]
  },
  {
   "cell_type": "code",
   "execution_count": 4,
   "metadata": {},
   "outputs": [],
   "source": [
    "data = split_day_time(data)"
   ]
  },
  {
   "cell_type": "code",
   "execution_count": 5,
   "metadata": {},
   "outputs": [],
   "source": [
    "output_data = pd.read_csv(\"서울시 기간별 일평균 대기환경 정보.csv\")\n",
    "output_data = output_data[(output_data.측정소명 == \"종로구\")]\n",
    "for ii in range(2010,2018):\n",
    "    filename = '기간별_일평균_대기환경_정보_' + str(ii)+'년.xlsx'\n",
    "    #print(filename)\n",
    "    plus_data = pd.read_excel(filename)\n",
    "    plus_data = plus_data[(plus_data.측정소명 == '종로구')]\n",
    "    #print(len(plus_data))\n",
    "    output_data = pd.concat([output_data,plus_data])\n",
    "output_data = output_data.drop('권역명',axis = 1)\n",
    "output_data = output_data.drop('측정소명',axis =1)\n",
    "add_data = output_data.copy()\n",
    "#add_data는 추후에 데이터로 넣어주기 위해 따로 분류했다.\n",
    "\n",
    "output_data = output_data.drop('일산화탄소농도(ppm)',axis = 1)\n",
    "output_data = output_data[['측정일자','미세먼지(㎍/㎥)']]\n",
    "output_data = output_data.sort_values('측정일자')\n",
    "output_data = output_data.reset_index(drop = True)\n"
   ]
  },
  {
   "cell_type": "code",
   "execution_count": 6,
   "metadata": {},
   "outputs": [],
   "source": [
    "add_data = add_data.sort_values('측정일자')\n",
    "add_data = add_data.reset_index(drop = True)"
   ]
  },
  {
   "cell_type": "code",
   "execution_count": 7,
   "metadata": {},
   "outputs": [
    {
     "data": {
      "text/plain": [
       "측정일자         int64\n",
       "미세먼지(㎍/㎥)    int64\n",
       "dtype: object"
      ]
     },
     "metadata": {},
     "output_type": "display_data"
    }
   ],
   "source": [
    "display(output_data.dtypes)"
   ]
  },
  {
   "cell_type": "code",
   "execution_count": 8,
   "metadata": {},
   "outputs": [
    {
     "data": {
      "text/html": [
       "<div>\n",
       "<style scoped>\n",
       "    .dataframe tbody tr th:only-of-type {\n",
       "        vertical-align: middle;\n",
       "    }\n",
       "\n",
       "    .dataframe tbody tr th {\n",
       "        vertical-align: top;\n",
       "    }\n",
       "\n",
       "    .dataframe thead th {\n",
       "        text-align: right;\n",
       "    }\n",
       "</style>\n",
       "<table border=\"1\" class=\"dataframe\">\n",
       "  <thead>\n",
       "    <tr style=\"text-align: right;\">\n",
       "      <th></th>\n",
       "      <th>강수량(mm)</th>\n",
       "      <th>기온(°C)</th>\n",
       "      <th>습도(%)</th>\n",
       "      <th>일사(MJ/m2)</th>\n",
       "      <th>일조(hr)</th>\n",
       "      <th>적설(cm)</th>\n",
       "      <th>전운량(10분위)</th>\n",
       "      <th>증기압(hPa)</th>\n",
       "      <th>최저운고(100m )</th>\n",
       "      <th>풍속(m/s)</th>\n",
       "      <th>풍향(16방위)</th>\n",
       "      <th>현지기압(hPa)</th>\n",
       "    </tr>\n",
       "  </thead>\n",
       "  <tbody>\n",
       "    <tr>\n",
       "      <th>강수량(mm)</th>\n",
       "      <td>1.000000</td>\n",
       "      <td>0.060848</td>\n",
       "      <td>0.178093</td>\n",
       "      <td>-0.061163</td>\n",
       "      <td>-0.068997</td>\n",
       "      <td>-0.012068</td>\n",
       "      <td>0.154282</td>\n",
       "      <td>0.140141</td>\n",
       "      <td>0.008620</td>\n",
       "      <td>0.034483</td>\n",
       "      <td>-0.042359</td>\n",
       "      <td>-0.030788</td>\n",
       "    </tr>\n",
       "    <tr>\n",
       "      <th>기온(°C)</th>\n",
       "      <td>0.060848</td>\n",
       "      <td>1.000000</td>\n",
       "      <td>0.167674</td>\n",
       "      <td>0.284638</td>\n",
       "      <td>0.150260</td>\n",
       "      <td>-0.276296</td>\n",
       "      <td>0.225040</td>\n",
       "      <td>0.846233</td>\n",
       "      <td>0.161366</td>\n",
       "      <td>0.010145</td>\n",
       "      <td>-0.114016</td>\n",
       "      <td>-0.191915</td>\n",
       "    </tr>\n",
       "    <tr>\n",
       "      <th>습도(%)</th>\n",
       "      <td>0.178093</td>\n",
       "      <td>0.167674</td>\n",
       "      <td>1.000000</td>\n",
       "      <td>-0.489922</td>\n",
       "      <td>-0.533562</td>\n",
       "      <td>0.025102</td>\n",
       "      <td>0.362159</td>\n",
       "      <td>0.537383</td>\n",
       "      <td>0.092641</td>\n",
       "      <td>-0.199492</td>\n",
       "      <td>-0.227215</td>\n",
       "      <td>-0.088738</td>\n",
       "    </tr>\n",
       "    <tr>\n",
       "      <th>일사(MJ/m2)</th>\n",
       "      <td>-0.061163</td>\n",
       "      <td>0.284638</td>\n",
       "      <td>-0.489922</td>\n",
       "      <td>1.000000</td>\n",
       "      <td>0.823493</td>\n",
       "      <td>-0.033563</td>\n",
       "      <td>-0.032787</td>\n",
       "      <td>-0.003942</td>\n",
       "      <td>0.004826</td>\n",
       "      <td>0.253282</td>\n",
       "      <td>0.109129</td>\n",
       "      <td>-0.021968</td>\n",
       "    </tr>\n",
       "    <tr>\n",
       "      <th>일조(hr)</th>\n",
       "      <td>-0.068997</td>\n",
       "      <td>0.150260</td>\n",
       "      <td>-0.533562</td>\n",
       "      <td>0.823493</td>\n",
       "      <td>1.000000</td>\n",
       "      <td>-0.006395</td>\n",
       "      <td>-0.193857</td>\n",
       "      <td>-0.117827</td>\n",
       "      <td>-0.083952</td>\n",
       "      <td>0.239900</td>\n",
       "      <td>0.131937</td>\n",
       "      <td>0.012207</td>\n",
       "    </tr>\n",
       "    <tr>\n",
       "      <th>적설(cm)</th>\n",
       "      <td>-0.012068</td>\n",
       "      <td>-0.276296</td>\n",
       "      <td>0.025102</td>\n",
       "      <td>-0.033563</td>\n",
       "      <td>-0.006395</td>\n",
       "      <td>1.000000</td>\n",
       "      <td>-0.024356</td>\n",
       "      <td>-0.173325</td>\n",
       "      <td>-0.036096</td>\n",
       "      <td>0.008400</td>\n",
       "      <td>0.034843</td>\n",
       "      <td>0.053037</td>\n",
       "    </tr>\n",
       "    <tr>\n",
       "      <th>전운량(10분위)</th>\n",
       "      <td>0.154282</td>\n",
       "      <td>0.225040</td>\n",
       "      <td>0.362159</td>\n",
       "      <td>-0.032787</td>\n",
       "      <td>-0.193857</td>\n",
       "      <td>-0.024356</td>\n",
       "      <td>1.000000</td>\n",
       "      <td>0.319851</td>\n",
       "      <td>0.426387</td>\n",
       "      <td>0.031910</td>\n",
       "      <td>-0.178789</td>\n",
       "      <td>-0.079288</td>\n",
       "    </tr>\n",
       "    <tr>\n",
       "      <th>증기압(hPa)</th>\n",
       "      <td>0.140141</td>\n",
       "      <td>0.846233</td>\n",
       "      <td>0.537383</td>\n",
       "      <td>-0.003942</td>\n",
       "      <td>-0.117827</td>\n",
       "      <td>-0.173325</td>\n",
       "      <td>0.319851</td>\n",
       "      <td>1.000000</td>\n",
       "      <td>0.160649</td>\n",
       "      <td>-0.065754</td>\n",
       "      <td>-0.142209</td>\n",
       "      <td>-0.189547</td>\n",
       "    </tr>\n",
       "    <tr>\n",
       "      <th>최저운고(100m )</th>\n",
       "      <td>0.008620</td>\n",
       "      <td>0.161366</td>\n",
       "      <td>0.092641</td>\n",
       "      <td>0.004826</td>\n",
       "      <td>-0.083952</td>\n",
       "      <td>-0.036096</td>\n",
       "      <td>0.426387</td>\n",
       "      <td>0.160649</td>\n",
       "      <td>1.000000</td>\n",
       "      <td>-0.021492</td>\n",
       "      <td>-0.100965</td>\n",
       "      <td>-0.044000</td>\n",
       "    </tr>\n",
       "    <tr>\n",
       "      <th>풍속(m/s)</th>\n",
       "      <td>0.034483</td>\n",
       "      <td>0.010145</td>\n",
       "      <td>-0.199492</td>\n",
       "      <td>0.253282</td>\n",
       "      <td>0.239900</td>\n",
       "      <td>0.008400</td>\n",
       "      <td>0.031910</td>\n",
       "      <td>-0.065754</td>\n",
       "      <td>-0.021492</td>\n",
       "      <td>1.000000</td>\n",
       "      <td>0.249815</td>\n",
       "      <td>-0.047098</td>\n",
       "    </tr>\n",
       "    <tr>\n",
       "      <th>풍향(16방위)</th>\n",
       "      <td>-0.042359</td>\n",
       "      <td>-0.114016</td>\n",
       "      <td>-0.227215</td>\n",
       "      <td>0.109129</td>\n",
       "      <td>0.131937</td>\n",
       "      <td>0.034843</td>\n",
       "      <td>-0.178789</td>\n",
       "      <td>-0.142209</td>\n",
       "      <td>-0.100965</td>\n",
       "      <td>0.249815</td>\n",
       "      <td>1.000000</td>\n",
       "      <td>0.008928</td>\n",
       "    </tr>\n",
       "    <tr>\n",
       "      <th>현지기압(hPa)</th>\n",
       "      <td>-0.030788</td>\n",
       "      <td>-0.191915</td>\n",
       "      <td>-0.088738</td>\n",
       "      <td>-0.021968</td>\n",
       "      <td>0.012207</td>\n",
       "      <td>0.053037</td>\n",
       "      <td>-0.079288</td>\n",
       "      <td>-0.189547</td>\n",
       "      <td>-0.044000</td>\n",
       "      <td>-0.047098</td>\n",
       "      <td>0.008928</td>\n",
       "      <td>1.000000</td>\n",
       "    </tr>\n",
       "  </tbody>\n",
       "</table>\n",
       "</div>"
      ],
      "text/plain": [
       "              강수량(mm)    기온(°C)     습도(%)  일사(MJ/m2)    일조(hr)    적설(cm)  \\\n",
       "강수량(mm)      1.000000  0.060848  0.178093  -0.061163 -0.068997 -0.012068   \n",
       "기온(°C)       0.060848  1.000000  0.167674   0.284638  0.150260 -0.276296   \n",
       "습도(%)        0.178093  0.167674  1.000000  -0.489922 -0.533562  0.025102   \n",
       "일사(MJ/m2)   -0.061163  0.284638 -0.489922   1.000000  0.823493 -0.033563   \n",
       "일조(hr)      -0.068997  0.150260 -0.533562   0.823493  1.000000 -0.006395   \n",
       "적설(cm)      -0.012068 -0.276296  0.025102  -0.033563 -0.006395  1.000000   \n",
       "전운량(10분위)    0.154282  0.225040  0.362159  -0.032787 -0.193857 -0.024356   \n",
       "증기압(hPa)     0.140141  0.846233  0.537383  -0.003942 -0.117827 -0.173325   \n",
       "최저운고(100m )  0.008620  0.161366  0.092641   0.004826 -0.083952 -0.036096   \n",
       "풍속(m/s)      0.034483  0.010145 -0.199492   0.253282  0.239900  0.008400   \n",
       "풍향(16방위)    -0.042359 -0.114016 -0.227215   0.109129  0.131937  0.034843   \n",
       "현지기압(hPa)   -0.030788 -0.191915 -0.088738  -0.021968  0.012207  0.053037   \n",
       "\n",
       "             전운량(10분위)  증기압(hPa)  최저운고(100m )   풍속(m/s)  풍향(16방위)  현지기압(hPa)  \n",
       "강수량(mm)       0.154282  0.140141     0.008620  0.034483 -0.042359  -0.030788  \n",
       "기온(°C)        0.225040  0.846233     0.161366  0.010145 -0.114016  -0.191915  \n",
       "습도(%)         0.362159  0.537383     0.092641 -0.199492 -0.227215  -0.088738  \n",
       "일사(MJ/m2)    -0.032787 -0.003942     0.004826  0.253282  0.109129  -0.021968  \n",
       "일조(hr)       -0.193857 -0.117827    -0.083952  0.239900  0.131937   0.012207  \n",
       "적설(cm)       -0.024356 -0.173325    -0.036096  0.008400  0.034843   0.053037  \n",
       "전운량(10분위)     1.000000  0.319851     0.426387  0.031910 -0.178789  -0.079288  \n",
       "증기압(hPa)      0.319851  1.000000     0.160649 -0.065754 -0.142209  -0.189547  \n",
       "최저운고(100m )   0.426387  0.160649     1.000000 -0.021492 -0.100965  -0.044000  \n",
       "풍속(m/s)       0.031910 -0.065754    -0.021492  1.000000  0.249815  -0.047098  \n",
       "풍향(16방위)     -0.178789 -0.142209    -0.100965  0.249815  1.000000   0.008928  \n",
       "현지기압(hPa)    -0.079288 -0.189547    -0.044000 -0.047098  0.008928   1.000000  "
      ]
     },
     "metadata": {},
     "output_type": "display_data"
    }
   ],
   "source": [
    "display(data.corr(\"pearson\"))# input으로 사용할 데이터 가운데 상관관계 비교를 통해 비슷한 특징이 어떤것인지 골라냄"
   ]
  },
  {
   "cell_type": "code",
   "execution_count": 9,
   "metadata": {},
   "outputs": [],
   "source": [
    "#output_data = output_data.drop(\"초미세먼지(㎍/㎥)\",axis = 1)"
   ]
  },
  {
   "cell_type": "code",
   "execution_count": 10,
   "metadata": {},
   "outputs": [],
   "source": [
    "data = data.sort_values('일시')"
   ]
  },
  {
   "cell_type": "code",
   "execution_count": 11,
   "metadata": {},
   "outputs": [],
   "source": [
    "def calc_day(split_input_day,split_output_day):\n",
    "    target_index = []\n",
    "    today = []\n",
    "    \n",
    "    for ii in range(len(split_output_day)):\n",
    "        output_today = split_output_day[ii]\n",
    "        output_today = datetime.date(output_today[0],output_today[1],output_today[2])\n",
    "        today.append(output_today)\n",
    "    today = set(today)\n",
    "    for  jj in range(len(split_input_day)):\n",
    "        input_today = split_input_day[jj]\n",
    "        input_today = datetime.date(input_today[0],input_today[1],input_today[2])\n",
    "        input_nextday =input_today +  datetime.timedelta(days = 1)\n",
    "        if input_today in today and input_nextday in today:\n",
    "            target_index.append(jj)\n",
    "    return target_index"
   ]
  },
  {
   "cell_type": "code",
   "execution_count": 12,
   "metadata": {},
   "outputs": [],
   "source": [
    "def drop_function(input_data, output_data):\n",
    "    input_days = input_data.일시.to_list()\n",
    "    split_input_day=[]\n",
    "    for input_day in input_days:\n",
    "        input_day = int(input_day)\n",
    "        yy,day = divmod(input_day,10000)\n",
    "        month, day = divmod(day,100)\n",
    "        li = [yy,month,day]\n",
    "        split_input_day.append(li)\n",
    "    output_days = output_data.측정일자.tolist()\n",
    "    split_output_day = []\n",
    "    for output_day in output_days:\n",
    "        output_day = int(output_day)\n",
    "        yy,day = divmod(output_day,10000)\n",
    "        month, day = divmod(day,100)\n",
    "        li = [yy,month,day]\n",
    "        split_output_day.append(li)\n",
    "    target_day = calc_day(split_input_day,split_output_day)\n",
    "    return input_data.iloc[target_day]\n",
    "#모자른 데이터 삭제 ex) output주말 인경우"
   ]
  },
  {
   "cell_type": "markdown",
   "metadata": {},
   "source": [
    "3.데이터의 준비"
   ]
  },
  {
   "cell_type": "markdown",
   "metadata": {},
   "source": [
    "데이터 직접 확인 결과 input으로 사용할 시간별 기상정보 데이터와 output으로 사용될 날짜별 미세먼지 정보 데이터 모두 년 단위 365일의 데이터를 가지고 있지 않았다. 일부 빠진 데이터가 있었기 때문에 데이터를 전처리 한다. \n",
    "다음날의 통합 대기예측을 하는 모델을 만들기 때문에, input과 output의 관계는 서로 하루의 날짜가 차이가 나도록 만들었다. 또한 각각 입력/정답 의 형태의 데이터 형태를 만든다. 하루 24시간의 데이터가 없는 데이터는 삭제하여 후에 혼동이 없도록 하였다."
   ]
  },
  {
   "cell_type": "code",
   "execution_count": 13,
   "metadata": {},
   "outputs": [],
   "source": [
    "data = drop_function(data,output_data)\n",
    "# 데이터에서 타겟 데이터와 입력 데이터가 적절히 맞지 않은 데이터는 제거"
   ]
  },
  {
   "cell_type": "code",
   "execution_count": 14,
   "metadata": {},
   "outputs": [],
   "source": [
    "data = data.sort_values('일시')\n",
    "data = data.reset_index()\n",
    "data = data.drop('index',axis = 1)\n",
    "#data = data.drop('level_0',axis = 1)"
   ]
  },
  {
   "cell_type": "code",
   "execution_count": 15,
   "metadata": {},
   "outputs": [],
   "source": [
    "def drop_24hour(input_data):\n",
    "    data_set = sorted(set(input_data.일시))\n",
    "    input_list = []\n",
    "    for ii in data_set:\n",
    "        data = input_data[(input_data.일시 == ii)]\n",
    "        tt = []\n",
    "        for jj in range(len(data)):\n",
    "            li = data.iloc[jj].to_list()\n",
    "            tt.append(li)\n",
    "            if(len(tt) == 24):\n",
    "                tt.sort(key = lambda x: x[-1])\n",
    "                aa = [tt[ii] for ii in range(0,24,4)]\n",
    "                bb = [tt[ii] for ii in range(1,24,4)]\n",
    "                cc = [tt[ii] for ii in range(2,24,4)]\n",
    "                dd = [tt[ii] for ii in range(3,24,4)]\n",
    "                input_list.append(aa)\n",
    "                input_list.append(bb)\n",
    "                input_list.append(cc)\n",
    "                input_list.append(dd)\n",
    "    return input_list\n",
    "#24시간이 아닌 데이터 삭제"
   ]
  },
  {
   "cell_type": "code",
   "execution_count": 16,
   "metadata": {},
   "outputs": [],
   "source": [
    "input_data = drop_24hour(data)"
   ]
  },
  {
   "cell_type": "code",
   "execution_count": 17,
   "metadata": {},
   "outputs": [],
   "source": [
    "def make_label(input_data,output_data):\n",
    "    labels = []\n",
    "    target_day =[]\n",
    "    d =  sorted(set(input_data))\n",
    "    for ii in range(len(d)):\n",
    "        day = d[ii]\n",
    "        yy,day = divmod(day,10000)\n",
    "        month,day = divmod(day,100)\n",
    "        target_day.append(datetime.date(yy,month,day) + datetime.timedelta(days = 1))\n",
    "    for ii in range(len(output_data)):\n",
    "        label_list = output_data.iloc[ii].to_list()\n",
    "        day = int(label_list[0])\n",
    "        yy,day = divmod(day,10000)\n",
    "        month,day = divmod(day,100)\n",
    "        today = datetime.date(yy,month,day)\n",
    "        if today in target_day:\n",
    "            for ii in range(4):\n",
    "                labels.append(label_list[1:])\n",
    "    return labels"
   ]
  },
  {
   "cell_type": "markdown",
   "metadata": {},
   "source": [
    "make_label함수는 아웃풋으로 사용될 PM10 값들을 정렬하는 함수이다."
   ]
  },
  {
   "cell_type": "code",
   "execution_count": 18,
   "metadata": {},
   "outputs": [],
   "source": [
    "def make_plus(input_data,output_data):\n",
    "    labels = []\n",
    "    target_day =[]\n",
    "    d =  sorted(set(input_data))\n",
    "    for ii in range(len(d)):\n",
    "        day = d[ii]\n",
    "        yy,day = divmod(day,10000)\n",
    "        month,day = divmod(day,100)\n",
    "        target_day.append(datetime.date(yy,month,day))\n",
    "        \n",
    "    for ii in range(len(output_data)):\n",
    "        label_list = output_data.iloc[ii].to_list()\n",
    "        day = int(label_list[0])\n",
    "        yy,day = divmod(day,10000)\n",
    "        month,day = divmod(day,100)\n",
    "        today = datetime.date(yy,month,day)\n",
    "        if today in target_day:\n",
    "            for ii in range(4):\n",
    "                labels.append(label_list[:])\n",
    "    return labels\n",
    "# 날짜 비교를 통해 \n",
    "\n",
    "def do_plus(_input,plus):   \n",
    "    input_list = _input.copy()\n",
    "    for ii in range(len(_input)):\n",
    "        for jj in range(len(_input[ii])):\n",
    "            for kk in range(len(plus[ii]) - 1):\n",
    "                input_list[ii][jj].append(plus[ii][kk+1])\n",
    "        #print(input_list[ii])\n",
    "    return input_list"
   ]
  },
  {
   "cell_type": "code",
   "execution_count": 19,
   "metadata": {},
   "outputs": [],
   "source": [
    "days = [int(input_data[ii][0][4]) for ii in range(len(input_data))]\n",
    "labels = make_label(days,output_data)\n",
    "plus_data = make_plus(days,add_data)\n"
   ]
  },
  {
   "cell_type": "code",
   "execution_count": 20,
   "metadata": {},
   "outputs": [],
   "source": [
    "input_data = do_plus(input_data,plus_data)"
   ]
  },
  {
   "cell_type": "code",
   "execution_count": 21,
   "metadata": {},
   "outputs": [],
   "source": [
    "for i in range(len(input_data)):\n",
    "    for j in range(len(input_data[i])):\n",
    "        del input_data[i][j][4]\n",
    "        del input_data[i][j][12]"
   ]
  },
  {
   "cell_type": "code",
   "execution_count": 22,
   "metadata": {},
   "outputs": [],
   "source": [
    "input_data = np.array(input_data)"
   ]
  },
  {
   "cell_type": "markdown",
   "metadata": {},
   "source": [
    "4. 모델링\n",
    "\n",
    "미리 제안서에 제안한 모델로 모델링을 한다."
   ]
  },
  {
   "cell_type": "code",
   "execution_count": 23,
   "metadata": {},
   "outputs": [
    {
     "name": "stderr",
     "output_type": "stream",
     "text": [
      "Using TensorFlow backend.\n"
     ]
    }
   ],
   "source": [
    "from keras.layers import LSTM,Dense,Input,Dropout,Flatten,GRU\n",
    "from keras.models import Sequential,Model\n",
    "from sklearn.model_selection import train_test_split\n",
    "from keras.utils.multi_gpu_utils import multi_gpu_model"
   ]
  },
  {
   "cell_type": "code",
   "execution_count": 24,
   "metadata": {},
   "outputs": [
    {
     "name": "stdout",
     "output_type": "stream",
     "text": [
      "10198\n"
     ]
    }
   ],
   "source": [
    "#print(len(input_data[0]))\n",
    "labels = make_label(days,output_data)\n",
    "input_data = np.array(input_data)\n",
    "labels = np.array(labels)\n",
    "#display(labels)\n",
    "train_size = int(len(input_data) * (4/5))\n",
    "print(train_size)\n",
    "x_train,x_test = input_data[:train_size], input_data[train_size:]\n",
    "y_train,y_test = labels[:train_size], labels[train_size:]\n"
   ]
  },
  {
   "cell_type": "code",
   "execution_count": 25,
   "metadata": {},
   "outputs": [
    {
     "data": {
      "text/plain": [
       "array([[44],\n",
       "       [44],\n",
       "       [44],\n",
       "       ...,\n",
       "       [43],\n",
       "       [43],\n",
       "       [43]])"
      ]
     },
     "metadata": {},
     "output_type": "display_data"
    }
   ],
   "source": [
    "display(labels)"
   ]
  },
  {
   "cell_type": "code",
   "execution_count": 26,
   "metadata": {},
   "outputs": [
    {
     "name": "stdout",
     "output_type": "stream",
     "text": [
      "Model: \"model_1\"\n",
      "_________________________________________________________________\n",
      "Layer (type)                 Output Shape              Param #   \n",
      "=================================================================\n",
      "input_1 (InputLayer)         (None, 6, 18)             0         \n",
      "_________________________________________________________________\n",
      "lstm_1 (LSTM)                (None, 6, 60)             18960     \n",
      "_________________________________________________________________\n",
      "lstm_2 (LSTM)                (None, 40)                16160     \n",
      "_________________________________________________________________\n",
      "dense_1 (Dense)              (None, 512)               20992     \n",
      "_________________________________________________________________\n",
      "dropout_1 (Dropout)          (None, 512)               0         \n",
      "_________________________________________________________________\n",
      "dense_2 (Dense)              (None, 128)               65664     \n",
      "_________________________________________________________________\n",
      "dropout_2 (Dropout)          (None, 128)               0         \n",
      "_________________________________________________________________\n",
      "dense_3 (Dense)              (None, 1)                 129       \n",
      "=================================================================\n",
      "Total params: 121,905\n",
      "Trainable params: 121,905\n",
      "Non-trainable params: 0\n",
      "_________________________________________________________________\n"
     ]
    },
    {
     "name": "stderr",
     "output_type": "stream",
     "text": [
      "c:\\python\\venv\\tensorflow\\lib\\site-packages\\ipykernel_launcher.py:7: UserWarning: Update your `Dense` call to the Keras 2 API: `Dense(512, activation=\"relu\", kernel_initializer=\"normal\")`\n",
      "  import sys\n",
      "c:\\python\\venv\\tensorflow\\lib\\site-packages\\ipykernel_launcher.py:9: UserWarning: Update your `Dense` call to the Keras 2 API: `Dense(128, activation=\"relu\", kernel_initializer=\"normal\")`\n",
      "  if __name__ == '__main__':\n",
      "c:\\python\\venv\\tensorflow\\lib\\site-packages\\ipykernel_launcher.py:11: UserWarning: Update your `Dense` call to the Keras 2 API: `Dense(1, kernel_initializer=\"normal\")`\n",
      "  # This is added back by InteractiveShellApp.init_path()\n"
     ]
    }
   ],
   "source": [
    "input = Input(shape = (6,18,) )\n",
    "r = LSTM(60 ,activation = 'relu',return_sequences=True)(input)\n",
    "r = LSTM(40,activation = 'relu',return_sequences=False)(r)\n",
    "#r = Flatten()(r)\n",
    "#r = Dense(256,activation = 'relu',init = 'normal')(r)\n",
    "#r = Dropout(0.2)(r)\n",
    "r = Dense(512,activation = 'relu',init = 'normal')(r)\n",
    "r = Dropout(0.2)(r)\n",
    "r = Dense(128,activation = 'relu',init = 'normal')(r)\n",
    "r = Dropout(0.2)(r)\n",
    "r = Dense(len(output_data.iloc[0])-1,init = 'normal')(r)\n",
    "#r = Dropout(0.2)(r)\n",
    "model= Model([input],r)\n",
    "model.summary()"
   ]
  },
  {
   "cell_type": "code",
   "execution_count": 27,
   "metadata": {},
   "outputs": [],
   "source": [
    "model.compile(loss = 'mean_absolute_error',optimizer='adam')"
   ]
  },
  {
   "cell_type": "code",
   "execution_count": 28,
   "metadata": {},
   "outputs": [
    {
     "name": "stdout",
     "output_type": "stream",
     "text": [
      "Train on 8158 samples, validate on 2040 samples\n",
      "Epoch 1/8\n",
      "8158/8158 [==============================] - 7s 868us/step - loss: 18.4998 - val_loss: 15.3078\n",
      "Epoch 2/8\n",
      "8158/8158 [==============================] - 7s 799us/step - loss: 15.8850 - val_loss: 13.6651\n",
      "Epoch 3/8\n",
      "8158/8158 [==============================] - 7s 804us/step - loss: 15.6556 - val_loss: 16.3127\n",
      "Epoch 4/8\n",
      "8158/8158 [==============================] - 7s 809us/step - loss: 15.5925 - val_loss: 15.9997\n",
      "Epoch 5/8\n",
      "8158/8158 [==============================] - 7s 846us/step - loss: 15.3179 - val_loss: 15.0519\n",
      "Epoch 6/8\n",
      "8158/8158 [==============================] - 7s 810us/step - loss: 15.1113 - val_loss: 13.1475\n",
      "Epoch 7/8\n",
      "8158/8158 [==============================] - 7s 815us/step - loss: 14.7903 - val_loss: 14.6323\n",
      "Epoch 8/8\n",
      "8158/8158 [==============================] - 7s 827us/step - loss: 14.6703 - val_loss: 12.8506\n"
     ]
    },
    {
     "data": {
      "text/plain": [
       "<keras.callbacks.callbacks.History at 0x1b60a032080>"
      ]
     },
     "execution_count": 28,
     "metadata": {},
     "output_type": "execute_result"
    }
   ],
   "source": [
    "model.fit(x_train,y_train,epochs = 8,batch_size=5,verbose =  1,validation_split=0.2)"
   ]
  },
  {
   "cell_type": "code",
   "execution_count": 33,
   "metadata": {},
   "outputs": [
    {
     "name": "stdout",
     "output_type": "stream",
     "text": [
      "2550/2550 [==============================] - 1s 199us/step\n",
      "loss : 10.690189842383067\n"
     ]
    }
   ],
   "source": [
    "h = model.evaluate(x_test, y_test, batch_size=5)\n",
    "print(\"loss :\",h)"
   ]
  },
  {
   "cell_type": "markdown",
   "metadata": {},
   "source": [
    "5.모델의 평가\n",
    "\n",
    "test 집합으로 분류된 데이터 들을 사용하여 시각화를 통한 평가를 하거나 또는 loss함수를 사용하여 모델의 성능을 평가한다."
   ]
  },
  {
   "cell_type": "code",
   "execution_count": 34,
   "metadata": {},
   "outputs": [
    {
     "name": "stdout",
     "output_type": "stream",
     "text": [
      "2550/2550 [==============================] - 0s 42us/step\n",
      "10.690190070657168\n"
     ]
    }
   ],
   "source": [
    "print(model.evaluate(x_test,y_test))\n",
    "#print(x_test.shape,y_train.shape)"
   ]
  },
  {
   "cell_type": "code",
   "execution_count": 35,
   "metadata": {},
   "outputs": [
    {
     "name": "stdout",
     "output_type": "stream",
     "text": [
      "(2550, 1)\n"
     ]
    },
    {
     "data": {
      "image/png": "[encoded data removed]",
      "text/plain": [
       "<Figure size 1800x864 with 1 Axes>"
      ]
     },
     "metadata": {
      "needs_background": "light"
     },
     "output_type": "display_data"
    }
   ],
   "source": [
    "import matplotlib.pyplot as plt\n",
    "print(y_test.shape)\n",
    "#for ii,(label,x_test) in enumerate(zip(y_test , model.predict(x_test))):\n",
    "plt.rcParams[\"figure.figsize\"] = (25,12)\n",
    "plt.plot(np.arange(len(y_test[:100])) , y_test[:100,0],label = 'real state')\n",
    "plt.plot(np.arange(len(y_test[:100])) , model.predict(x_test[:100])[:,0].astype('float32'),label = 'predict state')\n",
    "plt.legend()\n",
    "plt.show()"
   ]
  },
  {
   "cell_type": "code",
   "execution_count": 37,
   "metadata": {},
   "outputs": [],
   "source": [
    "model.save('datamining1.h5')#모델 저장"
   ]
  },
  {
   "cell_type": "code",
   "execution_count": 38,
   "metadata": {},
   "outputs": [],
   "source": [
    "def pm_check(arr):\n",
    "    for i in range(len(arr)):\n",
    "        for j in range(len(arr[0])):\n",
    "            if(arr[i,j]<15):\n",
    "                arr[i,j] = 0\n",
    "            elif(arr[i,j]<35):\n",
    "                arr[i,j] = 1\n",
    "            elif(arr[i,j]<75):\n",
    "                arr[i,j] = 2\n",
    "            else:\n",
    "                arr[i,j] =3\n",
    "    return arr"
   ]
  },
  {
   "cell_type": "code",
   "execution_count": null,
   "metadata": {},
   "outputs": [],
   "source": []
  },
  {
   "cell_type": "code",
   "execution_count": null,
   "metadata": {},
   "outputs": [],
   "source": []
  }
 ],
 "metadata": {
  "kernelspec": {
   "display_name": "Python 3",
   "language": "python",
   "name": "python3"
  },
  "language_info": {
   "codemirror_mode": {
    "name": "ipython",
    "version": 3
   },
   "file_extension": ".py",
   "mimetype": "text/x-python",
   "name": "python",
   "nbconvert_exporter": "python",
   "pygments_lexer": "ipython3",
   "version": "3.6.8"
  }
 },
 "nbformat": 4,
 "nbformat_minor": 4
}
